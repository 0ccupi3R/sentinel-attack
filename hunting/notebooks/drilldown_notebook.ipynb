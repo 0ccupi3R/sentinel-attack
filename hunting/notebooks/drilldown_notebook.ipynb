{
  "cells": [
    {
      "metadata": {
        "trusted": true,
        "hide_input": false
      },
      "cell_type": "code",
      "source": "# Jupyter notebook set-up\n# install required python modules\n!pip install --upgrade pip\n!pip install --upgrade Azure-Sentinel-Utilities\n!pip install Kqlmagic --upgrade\n!pip install networkx\n!pip install ipysheet\n\n# import required modules\nimport SentinelUtils, configparser\nimport networkx as nx\nimport matplotlib.pyplot as plt\nimport numpy as np\nimport pandas as pd\nimport ipywidgets as widgets\nfrom ipysheet import from_dataframe\nfrom IPython.display import display\n\n# check Python version\nSentinelUtils.version_management.ModuleVersionCheck().validate_python('3.6.0')\n\n# retrieve credentials\nconfig = configparser.ConfigParser()\nconfig.read('config.ini')\ntenant_id, subscription_id, resource_group = config['credentials']['tenant_id'], config['credentials']['subscription_id'], config['credentials']['resource_group']\nworkspace_id, workspace_name = config['credentials']['workspace_id'], config['credentials']['workspace_name']\n\n# launch kwlmagic and authenticate into workspace\n%reload_ext Kqlmagic\n%kql loganalytics://code;workspace=workspace_id;tenant=tenant_id;alias=\"SentinelDB\"",
      "execution_count": null,
      "outputs": []
    },
    {
      "metadata": {
        "collapsed": true
      },
      "cell_type": "markdown",
      "source": "# Sentinel ATT&CK threat hunting tool"
    },
    {
      "metadata": {},
      "cell_type": "markdown",
      "source": "### killchain overview by affected machine"
    },
    {
      "metadata": {
        "trusted": true,
        "hide_input": false
      },
      "cell_type": "code",
      "source": "# functions set-up\ndef clean_row(row):\n    \"\"\"Removes null and empty elements from a row of Kusto data\"\"\"\n    return [element for element in row if element]\n\ndef find_tactic(row):\n    \"\"\"Returns the ATT&CK tactics contained in a row\"\"\"\n    for item in row:\n        if item in [\"Initial Access\",\"Execution\",\"Persistence\",\"Privilege Escalation\",\"Defense Evasion\",\"Credential Access\",\"Discovery\",\"Lateral Movement\",\n                           \"Collection\",\"Command and Control\",\"Exfiltration\",\"Impact\"]:\n            return item\n        \ndef find_computer(row, computer_list):\n    \"\"\"Returns the computer name contained in a row\"\"\"\n    for item in row:\n        if item in computer_list:\n            return item\n        \n# grab sysmon events\ndata = %kql Sysmon | where isnotempty(phase_name)\n\n# grab list of computers generating sysmon data\ncomputerData = %kql Sysmon | where isnotempty(phase_name) | summarize event_count = count() by Computer | sort by event_count desc\n\n# build computer list\ncomputers = [computer[0] for computer in computerData]\n\n# prepare base dictionary\ndata_dict = {}\nfor computer in computers:\n    data_dict[computer] = {\"Initial Access\":0,\"Execution\":0,\"Persistence\":0,\"Privilege Escalation\":0,\"Defense Evasion\":0,\"Credential Access\":0,\"Discovery\":0,\"Lateral Movement\":0,\n                           \"Collection\":0,\"Command and Control\":0,\"Exfiltration\":0,\"Impact\":0}\n\n# remove null/empty fields from Kusto data\nclean_data = [clean_row(row) for row in data]\n\n# create dataframe\nout = widgets.Output(layout={'border': '1px solid black'})\nout.append_stdout('Killchain overview by affected machine')\ndisplay(out)\nfor row in clean_data:\n    data_dict[find_computer(row, computers)][find_tactic(row)] += 1\ndf = pd.DataFrame(data_dict)\ndisplay(df)\n\n# display computer selection\nout = widgets.Output(layout={'border': '1px solid black'})\nout.append_stdout('Please select a target machine to begin inspecting commands')\ndisplay(out)\ntables = list(computers)\nselected_table = widgets.Dropdown(options=tables, value=tables[1],description='Select target:')\ndisplay(selected_table)",
      "execution_count": null,
      "outputs": []
    },
    {
      "metadata": {
        "trusted": true,
        "hide_input": false
      },
      "cell_type": "code",
      "source": "out = widgets.Output(layout={'border': '1px solid black'})\nout.append_stdout('Overview of commands executed on target machine: {} (only logs with file_directory field are returned)'.format(selected_table.value))\ndisplay(out)\n\n# return\nv = str(selected_table.value)\ndata = %kql let _selection = v; Sysmon | where Computer contains _selection | where isnotempty(tostring(file_directory)) | summarize event_count=count() by tostring(file_directory) | sort by event_count desc\ndisplay(data)\n\ndf = data.to_dataframe()\nprocess_table = [i for i in df[\"file_directory\"]]\nprocess_table = widgets.Dropdown(options=process_table, value=process_table[1],description='Inspect:')\ndisplay(process_table)",
      "execution_count": null,
      "outputs": []
    },
    {
      "metadata": {
        "trusted": true,
        "hide_input": true
      },
      "cell_type": "code",
      "source": "v = str(selected_table.value)\nprocesses = %kql let _selection = v; Sysmon | where Computer contains _selection | where isnotempty(tostring(file_directory))| project file_directory, process_guid, event_creation_time\n\noutput_selection = []\nfor i in processes:\n    if i[0] == process_table.value:\n        output_selection.append(i[2])\n\nif output_selection:\n    timestamp_table = widgets.Dropdown(options=output_selection, value=output_selection[0],description='Timestamp:')\n    display(timestamp_table)\nelse:\n    out = widgets.Output(layout={'border': '1px solid black'})\n    out.append_stdout('Could not find timestamps for selected command: {}'.format(process_table.value))\n    display(out)",
      "execution_count": null,
      "outputs": []
    },
    {
      "metadata": {
        "trusted": true,
        "hide_input": true
      },
      "cell_type": "code",
      "source": "guid_list = []\nfor i in processes:\n    if i[2] == timestamp_table.value:\n        guid_list.append(i[1])\n        \nguid_value = str(guid_list[0])\ntarget_logs = %kql let _guid = guid_value; Sysmon | where process_guid contains _guid\ndisplay(target_logs)\nlogs = target_logs.to_dataframe()\n\nevent_choice = widgets.Dropdown(options=[1], value=1,description='EventID:')\ndisplay(event_choice)",
      "execution_count": null,
      "outputs": []
    },
    {
      "metadata": {
        "trusted": true,
        "hide_input": false
      },
      "cell_type": "code",
      "source": "# functions set-up\ndef parse_event_1(log_row):\n    \"\"\"Parses a Sysmon log with EvenID 1\"\"\"\n    return {\n        \"TimeGenerated\":log_row[0],\n        \"Computer\":log_row[3],\n        \"User\":log_row[17],\n        \"ProcessParentGuid\": log_row[22],\n        \"Cmd\": log_row[15]\n    }\n\ndef grab_parent_process_logs(guid, event_id):\n    \"\"\"Grabs the parent process of a Sysmon log\"\"\"\n    logs = %kql let _guid = guid; Sysmon | where process_guid contains _guid\n    if logs:\n        for log in logs:\n            if log[2] == 1:\n                tmp = clean_row(log)\n                return parse_event_1(tmp)\n\n# Grab event logs that correspond to EventID selection\nevent = {}\nfor log in target_logs:\n    if log[2] == 1:\n        tmp = clean_row(log)\n        event = parse_event_1(tmp)\n\n# Collect parent process log\nparent_data = grab_parent_process_logs(str(event.get(\"ProcessParentGuid\")), 1)\n\n# If parent process data is available return full process tree\nif parent_data:\n    out = widgets.Output(layout={'border': '1px solid black'})\n    out.append_stdout(\"Parent process\")\n    display(out)\n    \n    parent_data_list = [[parent_data.get(\"TimeGenerated\"), \"Computer\", parent_data.get(\"Computer\")],\n    [parent_data.get(\"TimeGenerated\"), \"User\", parent_data.get(\"User\")],\n    [parent_data.get(\"TimeGenerated\"), \"Command\", parent_data.get(\"Cmd\")]]\n    parent = pd.DataFrame(parent_data_list)\n    parent.columns = ['Timestamp', 'Attribute', \"Value\"]\n    pd.set_option('display.max_colwidth', 10000)\n    display(parent)\n    \n    out = widgets.Output(layout={'border': '1px solid black'})\n    out.append_stdout(\"Child process\")\n    display(out)\n    \n    baseline_data = [[event.get(\"TimeGenerated\"), \"Computer\", event.get(\"Computer\")],\n    [event.get(\"TimeGenerated\"), \"User\", event.get(\"User\")],\n    [event.get(\"TimeGenerated\"), \"Command\", event.get(\"Cmd\")]]\n    baseline = pd.DataFrame(baseline_data)\n    baseline.columns = ['Timestamp', 'Attribute', \"Value\"]\n    pd.set_option('display.max_colwidth', 10000)\n    display(baseline)\n    \n# If parent process data is not available return child process tree only\nelse:\n    out = widgets.Output(layout={'border': '1px solid black'})\n    out.append_stdout('Could not find parent process for: {}'.format(event.get(\"Cmd\")))\n    display(out)\n    baseline_data = [\n    [event.get(\"TimeGenerated\"), \"Computer\", event.get(\"Computer\")],\n    [event.get(\"TimeGenerated\"), \"User\", event.get(\"User\")],\n    [event.get(\"TimeGenerated\"), \"Command\", event.get(\"Cmd\")]]\n    \n    baseline = pd.DataFrame(baseline_data)\n    baseline.columns = ['Timestamp', 'Attribute', \"Value\"]\n    pd.set_option('display.max_colwidth', 10000)\n    display(baseline)\n\nout = widgets.Output(layout={'border': '1px solid black'})\nout.append_stdout('Visual process graph')\ndisplay(out)\ncommand = event.get(\"Cmd\").split(\"\\\\\")[-1:][0]\nval_map = {event.get(\"Computer\"): \"yellow\",\n           event.get(\"User\"): \"yellow\",\n           command: \"yellow\"}\nif parent_data:\n    parent_command = parent_data.get(\"Cmd\").split(\"\\\\\")[-1:][0]\n    val_map[parent_command] = \"red\"\n\nG = nx.Graph()\n\nG.add_node(event.get(\"Computer\"))\nG.add_node(event.get(\"User\"))\nG.add_node(command)\nG.add_edge(event.get(\"Computer\"),event.get(\"User\"), length = 0.1)\nG.add_edge(event.get(\"User\"),command, length = 0.1)\n\nif parent_data:\n    G.add_node(parent_command)\n    G.add_edge(command,parent_command, length = 0.1)\n\nvalues = [val_map.get(node) for node in G.nodes()]\nnx.draw(G, with_labels = True, node_color=values)\nplt.show()\n",
      "execution_count": null,
      "outputs": []
    }
  ],
  "metadata": {
    "kernelspec": {
      "name": "python36",
      "display_name": "Python 3.6",
      "language": "python"
    },
    "language_info": {
      "mimetype": "text/x-python",
      "nbconvert_exporter": "python",
      "name": "python",
      "pygments_lexer": "ipython3",
      "version": "3.6.6",
      "file_extension": ".py",
      "codemirror_mode": {
        "version": 3,
        "name": "ipython"
      }
    }
  },
  "nbformat": 4,
  "nbformat_minor": 2
}
